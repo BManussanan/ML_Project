{
 "cells": [
  {
   "cell_type": "markdown",
   "id": "b10c9d19",
   "metadata": {},
   "source": [
    "1.  รหัส ชื่อ และหมู่ของนิสิตในกลุ่ม\n",
    "6710451208 มนัสนันท์ รัตนเกียรติขจร 200\n",
    "6710451402 สิรินดา ศิลปเจริญ 200"
   ]
  },
  {
   "cell_type": "markdown",
   "id": "3365f62c",
   "metadata": {},
   "source": [
    "2. วัตถุประสงค์ของระบบต้นแบบ\n",
    "- เพื่อพัฒนาพัฒนาระบบช่วยวิเคราะห์และคาดการณ์ความเสี่ยงในการลาออกของพนักงาน (Employee Attrition)"
   ]
  },
  {
   "cell_type": "markdown",
   "id": "98977289",
   "metadata": {},
   "source": [
    "3. ลิงค์ไปยังข้อมูลที่จะใช้ในระบบต้นแบบ"
   ]
  },
  {
   "cell_type": "code",
   "execution_count": 1,
   "id": "33429c22",
   "metadata": {},
   "outputs": [
    {
     "data": {
      "text/html": [
       "<div>\n",
       "<style scoped>\n",
       "    .dataframe tbody tr th:only-of-type {\n",
       "        vertical-align: middle;\n",
       "    }\n",
       "\n",
       "    .dataframe tbody tr th {\n",
       "        vertical-align: top;\n",
       "    }\n",
       "\n",
       "    .dataframe thead th {\n",
       "        text-align: right;\n",
       "    }\n",
       "</style>\n",
       "<table border=\"1\" class=\"dataframe\">\n",
       "  <thead>\n",
       "    <tr style=\"text-align: right;\">\n",
       "      <th></th>\n",
       "      <th>Age</th>\n",
       "      <th>Attrition</th>\n",
       "      <th>BusinessTravel</th>\n",
       "      <th>DailyRate</th>\n",
       "      <th>Department</th>\n",
       "      <th>DistanceFromHome</th>\n",
       "      <th>Education</th>\n",
       "      <th>EducationField</th>\n",
       "      <th>EmployeeCount</th>\n",
       "      <th>EmployeeNumber</th>\n",
       "      <th>...</th>\n",
       "      <th>RelationshipSatisfaction</th>\n",
       "      <th>StandardHours</th>\n",
       "      <th>StockOptionLevel</th>\n",
       "      <th>TotalWorkingYears</th>\n",
       "      <th>TrainingTimesLastYear</th>\n",
       "      <th>WorkLifeBalance</th>\n",
       "      <th>YearsAtCompany</th>\n",
       "      <th>YearsInCurrentRole</th>\n",
       "      <th>YearsSinceLastPromotion</th>\n",
       "      <th>YearsWithCurrManager</th>\n",
       "    </tr>\n",
       "  </thead>\n",
       "  <tbody>\n",
       "    <tr>\n",
       "      <th>0</th>\n",
       "      <td>41</td>\n",
       "      <td>Yes</td>\n",
       "      <td>Travel_Rarely</td>\n",
       "      <td>1102</td>\n",
       "      <td>Sales</td>\n",
       "      <td>1</td>\n",
       "      <td>2</td>\n",
       "      <td>Life Sciences</td>\n",
       "      <td>1</td>\n",
       "      <td>1</td>\n",
       "      <td>...</td>\n",
       "      <td>1</td>\n",
       "      <td>80</td>\n",
       "      <td>0</td>\n",
       "      <td>8</td>\n",
       "      <td>0</td>\n",
       "      <td>1</td>\n",
       "      <td>6</td>\n",
       "      <td>4</td>\n",
       "      <td>0</td>\n",
       "      <td>5</td>\n",
       "    </tr>\n",
       "    <tr>\n",
       "      <th>1</th>\n",
       "      <td>49</td>\n",
       "      <td>No</td>\n",
       "      <td>Travel_Frequently</td>\n",
       "      <td>279</td>\n",
       "      <td>Research &amp; Development</td>\n",
       "      <td>8</td>\n",
       "      <td>1</td>\n",
       "      <td>Life Sciences</td>\n",
       "      <td>1</td>\n",
       "      <td>2</td>\n",
       "      <td>...</td>\n",
       "      <td>4</td>\n",
       "      <td>80</td>\n",
       "      <td>1</td>\n",
       "      <td>10</td>\n",
       "      <td>3</td>\n",
       "      <td>3</td>\n",
       "      <td>10</td>\n",
       "      <td>7</td>\n",
       "      <td>1</td>\n",
       "      <td>7</td>\n",
       "    </tr>\n",
       "    <tr>\n",
       "      <th>2</th>\n",
       "      <td>37</td>\n",
       "      <td>Yes</td>\n",
       "      <td>Travel_Rarely</td>\n",
       "      <td>1373</td>\n",
       "      <td>Research &amp; Development</td>\n",
       "      <td>2</td>\n",
       "      <td>2</td>\n",
       "      <td>Other</td>\n",
       "      <td>1</td>\n",
       "      <td>4</td>\n",
       "      <td>...</td>\n",
       "      <td>2</td>\n",
       "      <td>80</td>\n",
       "      <td>0</td>\n",
       "      <td>7</td>\n",
       "      <td>3</td>\n",
       "      <td>3</td>\n",
       "      <td>0</td>\n",
       "      <td>0</td>\n",
       "      <td>0</td>\n",
       "      <td>0</td>\n",
       "    </tr>\n",
       "    <tr>\n",
       "      <th>3</th>\n",
       "      <td>33</td>\n",
       "      <td>No</td>\n",
       "      <td>Travel_Frequently</td>\n",
       "      <td>1392</td>\n",
       "      <td>Research &amp; Development</td>\n",
       "      <td>3</td>\n",
       "      <td>4</td>\n",
       "      <td>Life Sciences</td>\n",
       "      <td>1</td>\n",
       "      <td>5</td>\n",
       "      <td>...</td>\n",
       "      <td>3</td>\n",
       "      <td>80</td>\n",
       "      <td>0</td>\n",
       "      <td>8</td>\n",
       "      <td>3</td>\n",
       "      <td>3</td>\n",
       "      <td>8</td>\n",
       "      <td>7</td>\n",
       "      <td>3</td>\n",
       "      <td>0</td>\n",
       "    </tr>\n",
       "    <tr>\n",
       "      <th>4</th>\n",
       "      <td>27</td>\n",
       "      <td>No</td>\n",
       "      <td>Travel_Rarely</td>\n",
       "      <td>591</td>\n",
       "      <td>Research &amp; Development</td>\n",
       "      <td>2</td>\n",
       "      <td>1</td>\n",
       "      <td>Medical</td>\n",
       "      <td>1</td>\n",
       "      <td>7</td>\n",
       "      <td>...</td>\n",
       "      <td>4</td>\n",
       "      <td>80</td>\n",
       "      <td>1</td>\n",
       "      <td>6</td>\n",
       "      <td>3</td>\n",
       "      <td>3</td>\n",
       "      <td>2</td>\n",
       "      <td>2</td>\n",
       "      <td>2</td>\n",
       "      <td>2</td>\n",
       "    </tr>\n",
       "    <tr>\n",
       "      <th>...</th>\n",
       "      <td>...</td>\n",
       "      <td>...</td>\n",
       "      <td>...</td>\n",
       "      <td>...</td>\n",
       "      <td>...</td>\n",
       "      <td>...</td>\n",
       "      <td>...</td>\n",
       "      <td>...</td>\n",
       "      <td>...</td>\n",
       "      <td>...</td>\n",
       "      <td>...</td>\n",
       "      <td>...</td>\n",
       "      <td>...</td>\n",
       "      <td>...</td>\n",
       "      <td>...</td>\n",
       "      <td>...</td>\n",
       "      <td>...</td>\n",
       "      <td>...</td>\n",
       "      <td>...</td>\n",
       "      <td>...</td>\n",
       "      <td>...</td>\n",
       "    </tr>\n",
       "    <tr>\n",
       "      <th>1465</th>\n",
       "      <td>36</td>\n",
       "      <td>No</td>\n",
       "      <td>Travel_Frequently</td>\n",
       "      <td>884</td>\n",
       "      <td>Research &amp; Development</td>\n",
       "      <td>23</td>\n",
       "      <td>2</td>\n",
       "      <td>Medical</td>\n",
       "      <td>1</td>\n",
       "      <td>2061</td>\n",
       "      <td>...</td>\n",
       "      <td>3</td>\n",
       "      <td>80</td>\n",
       "      <td>1</td>\n",
       "      <td>17</td>\n",
       "      <td>3</td>\n",
       "      <td>3</td>\n",
       "      <td>5</td>\n",
       "      <td>2</td>\n",
       "      <td>0</td>\n",
       "      <td>3</td>\n",
       "    </tr>\n",
       "    <tr>\n",
       "      <th>1466</th>\n",
       "      <td>39</td>\n",
       "      <td>No</td>\n",
       "      <td>Travel_Rarely</td>\n",
       "      <td>613</td>\n",
       "      <td>Research &amp; Development</td>\n",
       "      <td>6</td>\n",
       "      <td>1</td>\n",
       "      <td>Medical</td>\n",
       "      <td>1</td>\n",
       "      <td>2062</td>\n",
       "      <td>...</td>\n",
       "      <td>1</td>\n",
       "      <td>80</td>\n",
       "      <td>1</td>\n",
       "      <td>9</td>\n",
       "      <td>5</td>\n",
       "      <td>3</td>\n",
       "      <td>7</td>\n",
       "      <td>7</td>\n",
       "      <td>1</td>\n",
       "      <td>7</td>\n",
       "    </tr>\n",
       "    <tr>\n",
       "      <th>1467</th>\n",
       "      <td>27</td>\n",
       "      <td>No</td>\n",
       "      <td>Travel_Rarely</td>\n",
       "      <td>155</td>\n",
       "      <td>Research &amp; Development</td>\n",
       "      <td>4</td>\n",
       "      <td>3</td>\n",
       "      <td>Life Sciences</td>\n",
       "      <td>1</td>\n",
       "      <td>2064</td>\n",
       "      <td>...</td>\n",
       "      <td>2</td>\n",
       "      <td>80</td>\n",
       "      <td>1</td>\n",
       "      <td>6</td>\n",
       "      <td>0</td>\n",
       "      <td>3</td>\n",
       "      <td>6</td>\n",
       "      <td>2</td>\n",
       "      <td>0</td>\n",
       "      <td>3</td>\n",
       "    </tr>\n",
       "    <tr>\n",
       "      <th>1468</th>\n",
       "      <td>49</td>\n",
       "      <td>No</td>\n",
       "      <td>Travel_Frequently</td>\n",
       "      <td>1023</td>\n",
       "      <td>Sales</td>\n",
       "      <td>2</td>\n",
       "      <td>3</td>\n",
       "      <td>Medical</td>\n",
       "      <td>1</td>\n",
       "      <td>2065</td>\n",
       "      <td>...</td>\n",
       "      <td>4</td>\n",
       "      <td>80</td>\n",
       "      <td>0</td>\n",
       "      <td>17</td>\n",
       "      <td>3</td>\n",
       "      <td>2</td>\n",
       "      <td>9</td>\n",
       "      <td>6</td>\n",
       "      <td>0</td>\n",
       "      <td>8</td>\n",
       "    </tr>\n",
       "    <tr>\n",
       "      <th>1469</th>\n",
       "      <td>34</td>\n",
       "      <td>No</td>\n",
       "      <td>Travel_Rarely</td>\n",
       "      <td>628</td>\n",
       "      <td>Research &amp; Development</td>\n",
       "      <td>8</td>\n",
       "      <td>3</td>\n",
       "      <td>Medical</td>\n",
       "      <td>1</td>\n",
       "      <td>2068</td>\n",
       "      <td>...</td>\n",
       "      <td>1</td>\n",
       "      <td>80</td>\n",
       "      <td>0</td>\n",
       "      <td>6</td>\n",
       "      <td>3</td>\n",
       "      <td>4</td>\n",
       "      <td>4</td>\n",
       "      <td>3</td>\n",
       "      <td>1</td>\n",
       "      <td>2</td>\n",
       "    </tr>\n",
       "  </tbody>\n",
       "</table>\n",
       "<p>1470 rows × 35 columns</p>\n",
       "</div>"
      ],
      "text/plain": [
       "      Age Attrition     BusinessTravel  DailyRate              Department  \\\n",
       "0      41       Yes      Travel_Rarely       1102                   Sales   \n",
       "1      49        No  Travel_Frequently        279  Research & Development   \n",
       "2      37       Yes      Travel_Rarely       1373  Research & Development   \n",
       "3      33        No  Travel_Frequently       1392  Research & Development   \n",
       "4      27        No      Travel_Rarely        591  Research & Development   \n",
       "...   ...       ...                ...        ...                     ...   \n",
       "1465   36        No  Travel_Frequently        884  Research & Development   \n",
       "1466   39        No      Travel_Rarely        613  Research & Development   \n",
       "1467   27        No      Travel_Rarely        155  Research & Development   \n",
       "1468   49        No  Travel_Frequently       1023                   Sales   \n",
       "1469   34        No      Travel_Rarely        628  Research & Development   \n",
       "\n",
       "      DistanceFromHome  Education EducationField  EmployeeCount  \\\n",
       "0                    1          2  Life Sciences              1   \n",
       "1                    8          1  Life Sciences              1   \n",
       "2                    2          2          Other              1   \n",
       "3                    3          4  Life Sciences              1   \n",
       "4                    2          1        Medical              1   \n",
       "...                ...        ...            ...            ...   \n",
       "1465                23          2        Medical              1   \n",
       "1466                 6          1        Medical              1   \n",
       "1467                 4          3  Life Sciences              1   \n",
       "1468                 2          3        Medical              1   \n",
       "1469                 8          3        Medical              1   \n",
       "\n",
       "      EmployeeNumber  ...  RelationshipSatisfaction StandardHours  \\\n",
       "0                  1  ...                         1            80   \n",
       "1                  2  ...                         4            80   \n",
       "2                  4  ...                         2            80   \n",
       "3                  5  ...                         3            80   \n",
       "4                  7  ...                         4            80   \n",
       "...              ...  ...                       ...           ...   \n",
       "1465            2061  ...                         3            80   \n",
       "1466            2062  ...                         1            80   \n",
       "1467            2064  ...                         2            80   \n",
       "1468            2065  ...                         4            80   \n",
       "1469            2068  ...                         1            80   \n",
       "\n",
       "      StockOptionLevel  TotalWorkingYears  TrainingTimesLastYear  \\\n",
       "0                    0                  8                      0   \n",
       "1                    1                 10                      3   \n",
       "2                    0                  7                      3   \n",
       "3                    0                  8                      3   \n",
       "4                    1                  6                      3   \n",
       "...                ...                ...                    ...   \n",
       "1465                 1                 17                      3   \n",
       "1466                 1                  9                      5   \n",
       "1467                 1                  6                      0   \n",
       "1468                 0                 17                      3   \n",
       "1469                 0                  6                      3   \n",
       "\n",
       "     WorkLifeBalance  YearsAtCompany YearsInCurrentRole  \\\n",
       "0                  1               6                  4   \n",
       "1                  3              10                  7   \n",
       "2                  3               0                  0   \n",
       "3                  3               8                  7   \n",
       "4                  3               2                  2   \n",
       "...              ...             ...                ...   \n",
       "1465               3               5                  2   \n",
       "1466               3               7                  7   \n",
       "1467               3               6                  2   \n",
       "1468               2               9                  6   \n",
       "1469               4               4                  3   \n",
       "\n",
       "      YearsSinceLastPromotion  YearsWithCurrManager  \n",
       "0                           0                     5  \n",
       "1                           1                     7  \n",
       "2                           0                     0  \n",
       "3                           3                     0  \n",
       "4                           2                     2  \n",
       "...                       ...                   ...  \n",
       "1465                        0                     3  \n",
       "1466                        1                     7  \n",
       "1467                        0                     3  \n",
       "1468                        0                     8  \n",
       "1469                        1                     2  \n",
       "\n",
       "[1470 rows x 35 columns]"
      ]
     },
     "execution_count": 1,
     "metadata": {},
     "output_type": "execute_result"
    }
   ],
   "source": [
    "import pandas as pd\n",
    "df_employee = pd.read_csv(\"WA_Fn-UseC_-HR-Employee-Attrition.csv\")\n",
    "df_employee"
   ]
  },
  {
   "cell_type": "markdown",
   "id": "67eb8d7b",
   "metadata": {},
   "source": [
    "4. ใช้ baseline และ วิธีการประเมินอะไรได้บ้าง อย่างไร มีค่าเป็นเท่าไหร่\n",
    "- ใช้ DummyClassifier โดยมี strategy ที่เหมาะสมได้แก่\n",
    "    * most_frequent มีค่าประมาณ 0.821 \n",
    "    * stratified มีค่าประมาณ 0.703\n",
    "    * uniform มีค่าประมาณ 0.492\n",
    "    * constant มีค่าประมาณ 0.821"
   ]
  },
  {
   "cell_type": "code",
   "execution_count": 17,
   "id": "2683da28",
   "metadata": {},
   "outputs": [],
   "source": [
    "from sklearn.model_selection import train_test_split\n",
    "\n",
    "df_employee_train, df_employee_test = train_test_split(\n",
    "    df_employee, test_size=0.3, random_state=123)\n",
    "df_employee_val, df_employee_test = train_test_split(\n",
    "    df_employee, test_size=0.5, random_state=123)"
   ]
  },
  {
   "cell_type": "code",
   "execution_count": 18,
   "id": "4f048709",
   "metadata": {},
   "outputs": [
    {
     "data": {
      "text/plain": [
       "0.8217687074829932"
      ]
     },
     "execution_count": 18,
     "metadata": {},
     "output_type": "execute_result"
    }
   ],
   "source": [
    "from sklearn.dummy import DummyClassifier\n",
    "dummy_employee = DummyClassifier(strategy=\"most_frequent\")\n",
    "dummy_employee.fit(df_employee_train, df_employee_train[\"Attrition\"])\n",
    "dummy_employee.score(df_employee_val, df_employee_val[\"Attrition\"])"
   ]
  },
  {
   "cell_type": "code",
   "execution_count": 19,
   "id": "e8e84a70",
   "metadata": {},
   "outputs": [
    {
     "data": {
      "text/plain": [
       "0.6993197278911565"
      ]
     },
     "execution_count": 19,
     "metadata": {},
     "output_type": "execute_result"
    }
   ],
   "source": [
    "dummy_employee = DummyClassifier(strategy=\"stratified\")\n",
    "dummy_employee.fit(df_employee_train, df_employee_train[\"Attrition\"])\n",
    "dummy_employee.score(df_employee_val, df_employee_val[\"Attrition\"])"
   ]
  },
  {
   "cell_type": "code",
   "execution_count": 20,
   "id": "ebfdd33a",
   "metadata": {},
   "outputs": [
    {
     "data": {
      "text/plain": [
       "0.5170068027210885"
      ]
     },
     "execution_count": 20,
     "metadata": {},
     "output_type": "execute_result"
    }
   ],
   "source": [
    "dummy_employee = DummyClassifier(strategy=\"uniform\")\n",
    "dummy_employee.fit(df_employee_train, df_employee_train[\"Attrition\"])\n",
    "dummy_employee.score(df_employee_val, df_employee_val[\"Attrition\"])"
   ]
  },
  {
   "cell_type": "code",
   "execution_count": 21,
   "id": "db74b057",
   "metadata": {},
   "outputs": [
    {
     "data": {
      "text/plain": [
       "0.8217687074829932"
      ]
     },
     "execution_count": 21,
     "metadata": {},
     "output_type": "execute_result"
    }
   ],
   "source": [
    "dummy_employee = DummyClassifier(strategy=\"constant\", constant=\"No\")\n",
    "dummy_employee.fit(df_employee_train, df_employee_train[\"Attrition\"])\n",
    "dummy_employee.score(df_employee_val, df_employee_val[\"Attrition\"])"
   ]
  },
  {
   "cell_type": "markdown",
   "id": "ce39f458",
   "metadata": {},
   "source": [
    "5. training score, test score ปัจจุบันมีค่าเท่าไหร่"
   ]
  },
  {
   "cell_type": "code",
   "execution_count": 7,
   "id": "82c6f580",
   "metadata": {},
   "outputs": [],
   "source": [
    "from sklearn.model_selection import train_test_split\n",
    "seed = 123\n",
    "df_employee_train, df_employee_test = train_test_split(\n",
    "    df_employee, test_size=0.3, random_state=seed)\n",
    "\n",
    "df_employee_val, df_employee_test = train_test_split(\n",
    "    df_employee, test_size=0.5, random_state=seed)"
   ]
  },
  {
   "cell_type": "code",
   "execution_count": 12,
   "id": "743a3eaf",
   "metadata": {},
   "outputs": [
    {
     "name": "stdout",
     "output_type": "stream",
     "text": [
      "Training Accuracy: 0.8250728862973761\n",
      "Test Accuracy: 0.85578231292517\n"
     ]
    }
   ],
   "source": [
    "from sklearn.dummy import DummyClassifier\n",
    "\n",
    "dummy_employee = DummyClassifier(strategy=\"most_frequent\")\n",
    "dummy_employee.fit(df_employee_train, df_employee_train[\"Attrition\"])\n",
    "train_score = dummy_employee.score(df_employee_train, df_employee_train[\"Attrition\"])\n",
    "test_score = dummy_employee.score(df_employee_test, df_employee_test[\"Attrition\"])\n",
    "print(f\"Training Accuracy: {train_score}\")\n",
    "print(f\"Test Accuracy: {test_score}\")"
   ]
  },
  {
   "cell_type": "code",
   "execution_count": 13,
   "id": "205acbaf",
   "metadata": {},
   "outputs": [
    {
     "name": "stdout",
     "output_type": "stream",
     "text": [
      "Training Accuracy: 0.7084548104956269\n",
      "Test Accuracy: 0.7142857142857143\n"
     ]
    }
   ],
   "source": [
    "dummy_employee = DummyClassifier(strategy=\"stratified\")\n",
    "dummy_employee.fit(df_employee_train, df_employee_train[\"Attrition\"])\n",
    "train_score = dummy_employee.score(df_employee_train, df_employee_train[\"Attrition\"])\n",
    "test_score = dummy_employee.score(df_employee_test, df_employee_test[\"Attrition\"])\n",
    "print(f\"Training Accuracy: {train_score}\")\n",
    "print(f\"Test Accuracy: {test_score}\")"
   ]
  },
  {
   "cell_type": "code",
   "execution_count": 14,
   "id": "e9d46f17",
   "metadata": {},
   "outputs": [
    {
     "name": "stdout",
     "output_type": "stream",
     "text": [
      "Training Accuracy: 0.4897959183673469\n",
      "Test Accuracy: 0.4965986394557823\n"
     ]
    }
   ],
   "source": [
    "dummy_employee = DummyClassifier(strategy=\"uniform\")\n",
    "dummy_employee.fit(df_employee_train, df_employee_train[\"Attrition\"])\n",
    "train_score = dummy_employee.score(df_employee_train, df_employee_train[\"Attrition\"])\n",
    "test_score = dummy_employee.score(df_employee_test, df_employee_test[\"Attrition\"])\n",
    "print(f\"Training Accuracy: {train_score}\")\n",
    "print(f\"Test Accuracy: {test_score}\")"
   ]
  },
  {
   "cell_type": "code",
   "execution_count": 22,
   "id": "71be2a75",
   "metadata": {},
   "outputs": [
    {
     "name": "stdout",
     "output_type": "stream",
     "text": [
      "Training Accuracy: 0.8250728862973761\n",
      "Test Accuracy: 0.85578231292517\n"
     ]
    }
   ],
   "source": [
    "dummy_employee = DummyClassifier(strategy=\"constant\", constant=\"No\")\n",
    "dummy_employee.fit(df_employee_train, df_employee_train[\"Attrition\"])\n",
    "train_score = dummy_employee.score(df_employee_train, df_employee_train[\"Attrition\"])\n",
    "test_score = dummy_employee.score(df_employee_test, df_employee_test[\"Attrition\"])\n",
    "print(f\"Training Accuracy: {train_score}\")\n",
    "print(f\"Test Accuracy: {test_score}\")"
   ]
  },
  {
   "cell_type": "markdown",
   "id": "e5ffd203",
   "metadata": {},
   "source": [
    "6. จากการประเมินด้วยวิธีต่าง ๆ สามารถนำโมเดลไปใช้งานจริงได้แล้วหรือไม่ เพราะเหตุใด\n",
    "- ยังไม่สามารถใช้งานจริงได้ เพราะ Baseline ไม่ได้เรียนรู้จากคุณลักษณะจริงของพนักงาน\n",
    "- โมเดลทำนายค่าที่พบบ่อยที่สุด คือค่า No จะพลาดพนักงานที่ลาออกจริง\n",
    "- Baseline มีจุดประสงค์คือ วัดมาตรฐานเปรียบเทียบว่าโมเดลจริงต้องดีกว่านี้"
   ]
  },
  {
   "cell_type": "markdown",
   "id": "88b553b3",
   "metadata": {},
   "source": [
    "7. ทำอะไรได้บ้างเพื่อให้คะแนนต่าง ๆ มีค่าสูงขึ้น และ/หรือ โมเดลมีประโยชน์มากขึ้น\n",
    "\n",
    "- Data Improvement: ทำความสะอาดข้อมูล กำจัดค่าผิดปกติ และจัดการปัญหา class imbalance เพื่อให้โมเดลเรียนรู้ได้ดีขึ้น\n",
    "\n",
    "- Feature Engineering: สร้างหรือเลือกฟีเจอร์ที่มีความสัมพันธ์กับตัวแปรเป้าหมายสูง เพื่อลด noise และเพิ่ม signal\n",
    "\n",
    "- Model Tuning: ทดลองใช้โมเดลต่าง ๆ หรือปรับพารามิเตอร์ของโมเดลที่ใช้อยู่ เพื่อหาการตั้งค่าที่เหมาะสมที่สุด\n",
    "\n",
    "- Evaluation: ใช้ metric ที่เหมาะสม และอาจแบ่งชุดข้อมูล validation เพื่อป้องกัน overfitting"
   ]
  },
  {
   "cell_type": "markdown",
   "id": "3f8cc84b",
   "metadata": {},
   "source": [
    "8. ปร​ะเด็น​อื่น ๆ ที่เกี่ยว​ข้องกั​บข้อมูลของ​ตัวเอง\n",
    "- ตรวจสอบว่าโมเดลยังทำนาย Attrition ได้ถูกต้องถ้ามีข้อมูลบาง field ถูกเปลี่ยน โมเดลให้ผลสอดคล้องหรือไม่\n",
    "Directional expectation test\n",
    "- ตรวจสอบว่าโมเดลตอบสนองตามตรรกะ\n",
    "Model confidence\n",
    "- ดูว่าโมเดลมั่นใจในการทำนายแต่ละพนักงานแค่ไหน\n",
    "Model calibration\n",
    "- ตรวจสอบว่าความน่าจะเป็นของโมเดลสอดคล้องกับผลจริง"
   ]
  },
  {
   "cell_type": "markdown",
   "id": "dfa73255",
   "metadata": {},
   "source": [
    "9. ก​าร​มีส่วน​ร่วมของสม​าชิกแต่ละ​คนในกลุ่ม (แต่ล​ะคนทำอะไรบ้าง)\n",
    "6710451208 มนัสนันท์ รัตนเกียรติขจร 200\n",
    "- ตอบคำถามและหาข้อมูลเกี่ยวกับข้อ 3,5,7,9\n",
    "- ช่วยกันออกความเห็นในการตอบคำถามข้ออื่น ๆ \n",
    "\n",
    "6710451402 สิรินดา ศิลปเจริญ 200\n",
    "- ตอบคำถามและหาข้อมูลเกี่ยวกับ 4,6,8,10\n",
    "- ช่วยกันออกความเห็นในการตอบคำถามข้ออื่น ๆ "
   ]
  },
  {
   "cell_type": "markdown",
   "id": "2a5462ef",
   "metadata": {},
   "source": [
    "10. กา​รเปิ​ดเผ​ยกา​รใช้เค​รื่อ​งมือปัญ​ญาป​ระดิษฐ์ (ใช้อะไร ใช้เพื่ออะไร ใช้อย่างไร, pro​mpt อย่างไร)\n",
    "- ช่วยดู error ในการเขียนโค้ด\n",
    "- ช่วยเรียบเรียงคำพูดให้สละสลวย (มีการส่งข้อมูลที่เขียนขึ้นเองเข้าไปให้เรียบเรียงคำพูด)\n",
    "- ให้คำแนะนำและอธิบายแนวคิด"
   ]
  }
 ],
 "metadata": {
  "kernelspec": {
   "display_name": ".venv",
   "language": "python",
   "name": "python3"
  },
  "language_info": {
   "codemirror_mode": {
    "name": "ipython",
    "version": 3
   },
   "file_extension": ".py",
   "mimetype": "text/x-python",
   "name": "python",
   "nbconvert_exporter": "python",
   "pygments_lexer": "ipython3",
   "version": "3.11.9"
  }
 },
 "nbformat": 4,
 "nbformat_minor": 5
}
